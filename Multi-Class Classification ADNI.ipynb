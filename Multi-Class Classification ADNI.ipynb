{
 "cells": [
  {
   "cell_type": "markdown",
   "metadata": {},
   "source": [
    "# Alzheimer's Prediction (Multi-Class) \n",
    "* See [Alzheimer's Prediction](https://github.com/grantgasser/Alzheimers-Prediction) for more detail"
   ]
  },
  {
   "cell_type": "markdown",
   "metadata": {},
   "source": [
    "# Note: This notebook is being refactored\n",
    "* More EDA\n",
    "* Proper train/test split \n",
    "* Use `AUC` as main metric for evaluation, NOT accuracy"
   ]
  },
  {
   "cell_type": "code",
   "execution_count": 1,
   "metadata": {},
   "outputs": [],
   "source": [
    "import numpy as np\n",
    "import sklearn as sk\n",
    "import pandas as pd\n",
    "import os"
   ]
  },
  {
   "cell_type": "code",
   "execution_count": 3,
   "metadata": {},
   "outputs": [],
   "source": [
    "#Read data\n",
    "dat = pd.read_csv('AD_Challenge_Training_Data_Clinical_Updated_7.22.2014/ADNI_Training_Q3_APOE_CollectionADNI1Complete 1Yr 1.5T_July22.2014.csv')\n",
    "\n",
    "#Check NA values, 1 NA for imputed_genotype\n",
    "# dat.isnull().sum()"
   ]
  },
  {
   "cell_type": "markdown",
   "metadata": {},
   "source": [
    "### Remove NA"
   ]
  },
  {
   "cell_type": "code",
   "execution_count": 5,
   "metadata": {},
   "outputs": [
    {
     "data": {
      "text/plain": [
       "0"
      ]
     },
     "execution_count": 5,
     "metadata": {},
     "output_type": "execute_result"
    }
   ],
   "source": [
    "dat = dat.dropna()\n",
    "dat.isnull().sum().sum()"
   ]
  },
  {
   "cell_type": "code",
   "execution_count": 6,
   "metadata": {},
   "outputs": [
    {
     "data": {
      "text/html": [
       "<div>\n",
       "<style scoped>\n",
       "    .dataframe tbody tr th:only-of-type {\n",
       "        vertical-align: middle;\n",
       "    }\n",
       "\n",
       "    .dataframe tbody tr th {\n",
       "        vertical-align: top;\n",
       "    }\n",
       "\n",
       "    .dataframe thead th {\n",
       "        text-align: right;\n",
       "    }\n",
       "</style>\n",
       "<table border=\"1\" class=\"dataframe\">\n",
       "  <thead>\n",
       "    <tr style=\"text-align: right;\">\n",
       "      <th></th>\n",
       "      <th>directory.id</th>\n",
       "      <th>Subject</th>\n",
       "      <th>RID</th>\n",
       "      <th>Image.Data.ID</th>\n",
       "      <th>Modality</th>\n",
       "      <th>Visit</th>\n",
       "      <th>Acq.Date</th>\n",
       "      <th>DX.bl</th>\n",
       "      <th>EXAMDATE</th>\n",
       "      <th>AGE</th>\n",
       "      <th>PTGENDER</th>\n",
       "      <th>PTEDUCAT</th>\n",
       "      <th>PTETHCAT</th>\n",
       "      <th>PTRACCAT</th>\n",
       "      <th>APOE4</th>\n",
       "      <th>MMSE</th>\n",
       "      <th>imputed_genotype</th>\n",
       "      <th>APOE Genotype</th>\n",
       "      <th>Dx Codes for Submission</th>\n",
       "    </tr>\n",
       "  </thead>\n",
       "  <tbody>\n",
       "    <tr>\n",
       "      <th>0</th>\n",
       "      <td>4702245ea294ce5d4e9b8a87027dfdf4</td>\n",
       "      <td>011_S_0003</td>\n",
       "      <td>3</td>\n",
       "      <td>32237</td>\n",
       "      <td>MRI</td>\n",
       "      <td>1</td>\n",
       "      <td>9/1/2005</td>\n",
       "      <td>AD</td>\n",
       "      <td>9/12/2005</td>\n",
       "      <td>81.3</td>\n",
       "      <td>Male</td>\n",
       "      <td>18</td>\n",
       "      <td>Not Hisp/Latino</td>\n",
       "      <td>White</td>\n",
       "      <td>1</td>\n",
       "      <td>20</td>\n",
       "      <td>True</td>\n",
       "      <td>3,4</td>\n",
       "      <td>AD</td>\n",
       "    </tr>\n",
       "    <tr>\n",
       "      <th>1</th>\n",
       "      <td>2e89e352af743597b2368c412e0f6de2</td>\n",
       "      <td>022_S_0004</td>\n",
       "      <td>4</td>\n",
       "      <td>64631</td>\n",
       "      <td>MRI</td>\n",
       "      <td>1</td>\n",
       "      <td>9/22/2005</td>\n",
       "      <td>LMCI</td>\n",
       "      <td>11/8/2005</td>\n",
       "      <td>67.5</td>\n",
       "      <td>Male</td>\n",
       "      <td>10</td>\n",
       "      <td>Hisp/Latino</td>\n",
       "      <td>White</td>\n",
       "      <td>0</td>\n",
       "      <td>27</td>\n",
       "      <td>False</td>\n",
       "      <td>3,3</td>\n",
       "      <td>MCI</td>\n",
       "    </tr>\n",
       "    <tr>\n",
       "      <th>2</th>\n",
       "      <td>90419199306997753de8042f1fd55e38</td>\n",
       "      <td>011_S_0005</td>\n",
       "      <td>5</td>\n",
       "      <td>32246</td>\n",
       "      <td>MRI</td>\n",
       "      <td>1</td>\n",
       "      <td>9/2/2005</td>\n",
       "      <td>CN</td>\n",
       "      <td>9/7/2005</td>\n",
       "      <td>73.7</td>\n",
       "      <td>Male</td>\n",
       "      <td>16</td>\n",
       "      <td>Not Hisp/Latino</td>\n",
       "      <td>White</td>\n",
       "      <td>0</td>\n",
       "      <td>29</td>\n",
       "      <td>True</td>\n",
       "      <td>3,3</td>\n",
       "      <td>CN</td>\n",
       "    </tr>\n",
       "  </tbody>\n",
       "</table>\n",
       "</div>"
      ],
      "text/plain": [
       "                       directory.id     Subject  RID  Image.Data.ID Modality  \\\n",
       "0  4702245ea294ce5d4e9b8a87027dfdf4  011_S_0003    3          32237      MRI   \n",
       "1  2e89e352af743597b2368c412e0f6de2  022_S_0004    4          64631      MRI   \n",
       "2  90419199306997753de8042f1fd55e38  011_S_0005    5          32246      MRI   \n",
       "\n",
       "   Visit   Acq.Date DX.bl   EXAMDATE   AGE PTGENDER  PTEDUCAT  \\\n",
       "0      1   9/1/2005    AD  9/12/2005  81.3     Male        18   \n",
       "1      1  9/22/2005  LMCI  11/8/2005  67.5     Male        10   \n",
       "2      1   9/2/2005    CN   9/7/2005  73.7     Male        16   \n",
       "\n",
       "          PTETHCAT PTRACCAT  APOE4  MMSE imputed_genotype APOE Genotype  \\\n",
       "0  Not Hisp/Latino    White      1    20             True           3,4   \n",
       "1      Hisp/Latino    White      0    27            False           3,3   \n",
       "2  Not Hisp/Latino    White      0    29             True           3,3   \n",
       "\n",
       "  Dx Codes for Submission  \n",
       "0                      AD  \n",
       "1                     MCI  \n",
       "2                      CN  "
      ]
     },
     "execution_count": 6,
     "metadata": {},
     "output_type": "execute_result"
    }
   ],
   "source": [
    "#Peek at data\n",
    "dat.head(3)"
   ]
  },
  {
   "cell_type": "markdown",
   "metadata": {},
   "source": [
    "### Remove ID's and other features"
   ]
  },
  {
   "cell_type": "code",
   "execution_count": 7,
   "metadata": {},
   "outputs": [
    {
     "name": "stdout",
     "output_type": "stream",
     "text": [
      "Removing columns: ['directory.id', 'Subject', 'RID', 'Image.Data.ID', 'Modality', 'Visit', 'Acq.Date', 'DX.bl', 'EXAMDATE', 'Dx Codes for Submission']\n"
     ]
    },
    {
     "data": {
      "text/html": [
       "<div>\n",
       "<style scoped>\n",
       "    .dataframe tbody tr th:only-of-type {\n",
       "        vertical-align: middle;\n",
       "    }\n",
       "\n",
       "    .dataframe tbody tr th {\n",
       "        vertical-align: top;\n",
       "    }\n",
       "\n",
       "    .dataframe thead th {\n",
       "        text-align: right;\n",
       "    }\n",
       "</style>\n",
       "<table border=\"1\" class=\"dataframe\">\n",
       "  <thead>\n",
       "    <tr style=\"text-align: right;\">\n",
       "      <th></th>\n",
       "      <th>AGE</th>\n",
       "      <th>PTGENDER</th>\n",
       "      <th>PTEDUCAT</th>\n",
       "      <th>PTETHCAT</th>\n",
       "      <th>PTRACCAT</th>\n",
       "      <th>APOE4</th>\n",
       "      <th>MMSE</th>\n",
       "      <th>imputed_genotype</th>\n",
       "      <th>APOE Genotype</th>\n",
       "    </tr>\n",
       "  </thead>\n",
       "  <tbody>\n",
       "    <tr>\n",
       "      <th>0</th>\n",
       "      <td>81.3</td>\n",
       "      <td>Male</td>\n",
       "      <td>18</td>\n",
       "      <td>Not Hisp/Latino</td>\n",
       "      <td>White</td>\n",
       "      <td>1</td>\n",
       "      <td>20</td>\n",
       "      <td>True</td>\n",
       "      <td>3,4</td>\n",
       "    </tr>\n",
       "    <tr>\n",
       "      <th>1</th>\n",
       "      <td>67.5</td>\n",
       "      <td>Male</td>\n",
       "      <td>10</td>\n",
       "      <td>Hisp/Latino</td>\n",
       "      <td>White</td>\n",
       "      <td>0</td>\n",
       "      <td>27</td>\n",
       "      <td>False</td>\n",
       "      <td>3,3</td>\n",
       "    </tr>\n",
       "    <tr>\n",
       "      <th>2</th>\n",
       "      <td>73.7</td>\n",
       "      <td>Male</td>\n",
       "      <td>16</td>\n",
       "      <td>Not Hisp/Latino</td>\n",
       "      <td>White</td>\n",
       "      <td>0</td>\n",
       "      <td>29</td>\n",
       "      <td>True</td>\n",
       "      <td>3,3</td>\n",
       "    </tr>\n",
       "    <tr>\n",
       "      <th>3</th>\n",
       "      <td>80.4</td>\n",
       "      <td>Female</td>\n",
       "      <td>13</td>\n",
       "      <td>Not Hisp/Latino</td>\n",
       "      <td>White</td>\n",
       "      <td>0</td>\n",
       "      <td>25</td>\n",
       "      <td>True</td>\n",
       "      <td>3,3</td>\n",
       "    </tr>\n",
       "    <tr>\n",
       "      <th>4</th>\n",
       "      <td>73.9</td>\n",
       "      <td>Female</td>\n",
       "      <td>12</td>\n",
       "      <td>Not Hisp/Latino</td>\n",
       "      <td>White</td>\n",
       "      <td>1</td>\n",
       "      <td>24</td>\n",
       "      <td>True</td>\n",
       "      <td>3,4</td>\n",
       "    </tr>\n",
       "  </tbody>\n",
       "</table>\n",
       "</div>"
      ],
      "text/plain": [
       "    AGE PTGENDER  PTEDUCAT         PTETHCAT PTRACCAT  APOE4  MMSE  \\\n",
       "0  81.3     Male        18  Not Hisp/Latino    White      1    20   \n",
       "1  67.5     Male        10      Hisp/Latino    White      0    27   \n",
       "2  73.7     Male        16  Not Hisp/Latino    White      0    29   \n",
       "3  80.4   Female        13  Not Hisp/Latino    White      0    25   \n",
       "4  73.9   Female        12  Not Hisp/Latino    White      1    24   \n",
       "\n",
       "  imputed_genotype APOE Genotype  \n",
       "0             True           3,4  \n",
       "1            False           3,3  \n",
       "2             True           3,3  \n",
       "3             True           3,3  \n",
       "4             True           3,4  "
      ]
     },
     "execution_count": 7,
     "metadata": {},
     "output_type": "execute_result"
    }
   ],
   "source": [
    "X = dat\n",
    "Y = dat['DX.bl']\n",
    "del dat\n",
    "\n",
    "#Remove unnecessary columns (features), remove first 9 columns and 'Dx codes for submission'\n",
    "remove_columns = list(X.columns)[0:9]\n",
    "remove_columns.append('Dx Codes for Submission')\n",
    "print('Removing columns:', remove_columns)\n",
    "\n",
    "X = X.drop(remove_columns, axis=1)\n",
    "\n",
    "features = list(X.columns)\n",
    "X.head(5)"
   ]
  },
  {
   "cell_type": "markdown",
   "metadata": {},
   "source": [
    "## Exploratory Data Analysis (EDA)"
   ]
  },
  {
   "cell_type": "code",
   "execution_count": 11,
   "metadata": {},
   "outputs": [
    {
     "name": "stdout",
     "output_type": "stream",
     "text": [
      "Categorical variable distributions:\n",
      "\n",
      "\n",
      "Distribution of PTETHCAT\n",
      "Not Hisp/Latino    616\n",
      "Hisp/Latino          8\n",
      "Unknown              3\n",
      "Name: PTETHCAT, dtype: int64\n",
      "\n",
      "Distribution of PTRACCAT\n",
      "White    583\n",
      "Black     31\n",
      "Asian     13\n",
      "Name: PTRACCAT, dtype: int64\n",
      "\n",
      "Distribution of APOE Genotype\n",
      "3,3    275\n",
      "3,4    221\n",
      "4,4     71\n",
      "2,3     45\n",
      "2,4     13\n",
      "2,2      2\n",
      "Name: APOE Genotype, dtype: int64\n",
      "\n",
      "Distribution of APOE4\n",
      "0    322\n",
      "1    234\n",
      "2     71\n",
      "Name: APOE4, dtype: int64\n",
      "\n",
      "Distribution of imputed_genotype\n",
      "True     466\n",
      "False    161\n",
      "Name: imputed_genotype, dtype: int64\n",
      "\n",
      "Distribution of PTGENDER\n",
      "Male      363\n",
      "Female    264\n",
      "Name: PTGENDER, dtype: int64\n"
     ]
    }
   ],
   "source": [
    "numerical_vars = ['AGE', 'MMSE', 'PTEDUCAT']\n",
    "cat_vars = list(set(features) - set(numerical_vars))\n",
    "\n",
    "print('Categorical variable distributions:\\n')\n",
    "\n",
    "for var in cat_vars:\n",
    "    print('\\nDistribution of', var)\n",
    "    \n",
    "    print(X[var].value_counts())"
   ]
  },
  {
   "cell_type": "markdown",
   "metadata": {},
   "source": [
    "#### Categorical Var Distribution Notes\n",
    "* Ethnicity and Race are separate vars\n",
    "* Distribution of Hispanic, Black, White, Asian not quite same as overall American ethnic/racial distribution\n",
    "* APOE Genotype with 3 in the first spot seems to be overwhelming majority `3,3` and `3,4`\n",
    "* More males than females for some reason"
   ]
  },
  {
   "cell_type": "code",
   "execution_count": 28,
   "metadata": {},
   "outputs": [
    {
     "name": "stdout",
     "output_type": "stream",
     "text": [
      "Numerical Var Distributions:\n",
      "\n"
     ]
    },
    {
     "data": {
      "image/png": "[encoded data removed]",
      "text/plain": [
       "<Figure size 432x288 with 1 Axes>"
      ]
     },
     "metadata": {
      "needs_background": "light"
     },
     "output_type": "display_data"
    },
    {
     "name": "stdout",
     "output_type": "stream",
     "text": [
      "count    627.000000\n",
      "mean      75.161882\n",
      "std        6.689979\n",
      "min       55.100000\n",
      "25%       71.200000\n",
      "50%       75.400000\n",
      "75%       80.000000\n",
      "max       89.600000\n",
      "Name: AGE, dtype: float64\n"
     ]
    },
    {
     "data": {
      "image/png": "[encoded data removed]",
      "text/plain": [
       "<Figure size 432x288 with 1 Axes>"
      ]
     },
     "metadata": {
      "needs_background": "light"
     },
     "output_type": "display_data"
    },
    {
     "name": "stdout",
     "output_type": "stream",
     "text": [
      "count    627.000000\n",
      "mean      26.921850\n",
      "std        2.563934\n",
      "min       20.000000\n",
      "25%       25.000000\n",
      "50%       27.000000\n",
      "75%       29.000000\n",
      "max       30.000000\n",
      "Name: MMSE, dtype: float64\n"
     ]
    },
    {
     "data": {
      "image/png": "[encoded data removed]",
      "text/plain": [
       "<Figure size 432x288 with 1 Axes>"
      ]
     },
     "metadata": {
      "needs_background": "light"
     },
     "output_type": "display_data"
    },
    {
     "name": "stdout",
     "output_type": "stream",
     "text": [
      "count    627.000000\n",
      "mean      15.612440\n",
      "std        2.978845\n",
      "min        6.000000\n",
      "25%       13.000000\n",
      "50%       16.000000\n",
      "75%       18.000000\n",
      "max       20.000000\n",
      "Name: PTEDUCAT, dtype: float64\n"
     ]
    }
   ],
   "source": [
    "from matplotlib import pyplot as plt\n",
    "%matplotlib inline\n",
    "\n",
    "print('Numerical Var Distributions:\\n')\n",
    "\n",
    "for var in numerical_vars:\n",
    "    plt.hist(X[var])\n",
    "    plt.title(var + ' Distribution')\n",
    "    plt.show()\n",
    "    \n",
    "    # descriptive stats\n",
    "    print(X[var].describe())"
   ]
  },
  {
   "cell_type": "markdown",
   "metadata": {},
   "source": [
    "### Analyze target (y) distribution\n",
    "* High number (304) of limited impairment (LMCI). Maybe old age? Or the patients being evaluated are not random elderly patients but patients already known to have cognitive issues"
   ]
  },
  {
   "cell_type": "code",
   "execution_count": 38,
   "metadata": {},
   "outputs": [
    {
     "data": {
      "text/plain": [
       "<BarContainer object of 3 artists>"
      ]
     },
     "execution_count": 38,
     "metadata": {},
     "output_type": "execute_result"
    },
    {
     "data": {
      "image/png": "[encoded data removed]",
      "text/plain": [
       "<Figure size 432x288 with 1 Axes>"
      ]
     },
     "metadata": {
      "needs_background": "light"
     },
     "output_type": "display_data"
    }
   ],
   "source": [
    "plt.bar(Y.value_counts().index, Y.value_counts())"
   ]
  },
  {
   "cell_type": "markdown",
   "metadata": {},
   "source": [
    "## Pre-processing"
   ]
  },
  {
   "cell_type": "markdown",
   "metadata": {},
   "source": [
    "### Convert Categorical Variables to 1-Hot\n",
    "* Next time use `sklearn.preprocessing.OneHotEncoder`"
   ]
  },
  {
   "cell_type": "code",
   "execution_count": 39,
   "metadata": {},
   "outputs": [
    {
     "name": "stdout",
     "output_type": "stream",
     "text": [
      "Converting PTETHCAT to 1-hot encoding\n",
      "Converting PTRACCAT to 1-hot encoding\n",
      "Converting APOE Genotype to 1-hot encoding\n",
      "Converting APOE4 to 1-hot encoding\n",
      "Converting imputed_genotype to 1-hot encoding\n",
      "Converting PTGENDER to 1-hot encoding\n"
     ]
    },
    {
     "data": {
      "text/html": [
       "<div>\n",
       "<style scoped>\n",
       "    .dataframe tbody tr th:only-of-type {\n",
       "        vertical-align: middle;\n",
       "    }\n",
       "\n",
       "    .dataframe tbody tr th {\n",
       "        vertical-align: top;\n",
       "    }\n",
       "\n",
       "    .dataframe thead th {\n",
       "        text-align: right;\n",
       "    }\n",
       "</style>\n",
       "<table border=\"1\" class=\"dataframe\">\n",
       "  <thead>\n",
       "    <tr style=\"text-align: right;\">\n",
       "      <th></th>\n",
       "      <th>AGE</th>\n",
       "      <th>PTEDUCAT</th>\n",
       "      <th>MMSE</th>\n",
       "      <th>Hisp/Latino</th>\n",
       "      <th>Not Hisp/Latino</th>\n",
       "      <th>Unknown</th>\n",
       "      <th>Asian</th>\n",
       "      <th>Black</th>\n",
       "      <th>White</th>\n",
       "      <th>2,2</th>\n",
       "      <th>...</th>\n",
       "      <th>3,3</th>\n",
       "      <th>3,4</th>\n",
       "      <th>4,4</th>\n",
       "      <th>0</th>\n",
       "      <th>1</th>\n",
       "      <th>2</th>\n",
       "      <th>False</th>\n",
       "      <th>True</th>\n",
       "      <th>Female</th>\n",
       "      <th>Male</th>\n",
       "    </tr>\n",
       "  </thead>\n",
       "  <tbody>\n",
       "    <tr>\n",
       "      <th>0</th>\n",
       "      <td>81.3</td>\n",
       "      <td>18</td>\n",
       "      <td>20</td>\n",
       "      <td>0</td>\n",
       "      <td>1</td>\n",
       "      <td>0</td>\n",
       "      <td>0</td>\n",
       "      <td>0</td>\n",
       "      <td>1</td>\n",
       "      <td>0</td>\n",
       "      <td>...</td>\n",
       "      <td>0</td>\n",
       "      <td>1</td>\n",
       "      <td>0</td>\n",
       "      <td>0</td>\n",
       "      <td>1</td>\n",
       "      <td>0</td>\n",
       "      <td>0</td>\n",
       "      <td>1</td>\n",
       "      <td>0</td>\n",
       "      <td>1</td>\n",
       "    </tr>\n",
       "    <tr>\n",
       "      <th>1</th>\n",
       "      <td>67.5</td>\n",
       "      <td>10</td>\n",
       "      <td>27</td>\n",
       "      <td>1</td>\n",
       "      <td>0</td>\n",
       "      <td>0</td>\n",
       "      <td>0</td>\n",
       "      <td>0</td>\n",
       "      <td>1</td>\n",
       "      <td>0</td>\n",
       "      <td>...</td>\n",
       "      <td>1</td>\n",
       "      <td>0</td>\n",
       "      <td>0</td>\n",
       "      <td>1</td>\n",
       "      <td>0</td>\n",
       "      <td>0</td>\n",
       "      <td>1</td>\n",
       "      <td>0</td>\n",
       "      <td>0</td>\n",
       "      <td>1</td>\n",
       "    </tr>\n",
       "    <tr>\n",
       "      <th>2</th>\n",
       "      <td>73.7</td>\n",
       "      <td>16</td>\n",
       "      <td>29</td>\n",
       "      <td>0</td>\n",
       "      <td>1</td>\n",
       "      <td>0</td>\n",
       "      <td>0</td>\n",
       "      <td>0</td>\n",
       "      <td>1</td>\n",
       "      <td>0</td>\n",
       "      <td>...</td>\n",
       "      <td>1</td>\n",
       "      <td>0</td>\n",
       "      <td>0</td>\n",
       "      <td>1</td>\n",
       "      <td>0</td>\n",
       "      <td>0</td>\n",
       "      <td>0</td>\n",
       "      <td>1</td>\n",
       "      <td>0</td>\n",
       "      <td>1</td>\n",
       "    </tr>\n",
       "    <tr>\n",
       "      <th>3</th>\n",
       "      <td>80.4</td>\n",
       "      <td>13</td>\n",
       "      <td>25</td>\n",
       "      <td>0</td>\n",
       "      <td>1</td>\n",
       "      <td>0</td>\n",
       "      <td>0</td>\n",
       "      <td>0</td>\n",
       "      <td>1</td>\n",
       "      <td>0</td>\n",
       "      <td>...</td>\n",
       "      <td>1</td>\n",
       "      <td>0</td>\n",
       "      <td>0</td>\n",
       "      <td>1</td>\n",
       "      <td>0</td>\n",
       "      <td>0</td>\n",
       "      <td>0</td>\n",
       "      <td>1</td>\n",
       "      <td>1</td>\n",
       "      <td>0</td>\n",
       "    </tr>\n",
       "  </tbody>\n",
       "</table>\n",
       "<p>4 rows × 22 columns</p>\n",
       "</div>"
      ],
      "text/plain": [
       "    AGE  PTEDUCAT  MMSE  Hisp/Latino  Not Hisp/Latino  Unknown  Asian  Black  \\\n",
       "0  81.3        18    20            0                1        0      0      0   \n",
       "1  67.5        10    27            1                0        0      0      0   \n",
       "2  73.7        16    29            0                1        0      0      0   \n",
       "3  80.4        13    25            0                1        0      0      0   \n",
       "\n",
       "   White  2,2  ...  3,3  3,4  4,4  0  1  2  False  True  Female  Male  \n",
       "0      1    0  ...    0    1    0  0  1  0      0     1       0     1  \n",
       "1      1    0  ...    1    0    0  1  0  0      1     0       0     1  \n",
       "2      1    0  ...    1    0    0  1  0  0      0     1       0     1  \n",
       "3      1    0  ...    1    0    0  1  0  0      0     1       1     0  \n",
       "\n",
       "[4 rows x 22 columns]"
      ]
     },
     "execution_count": 39,
     "metadata": {},
     "output_type": "execute_result"
    }
   ],
   "source": [
    "#for each categorical var, convert to 1-hot encoding\n",
    "for var in cat_vars:\n",
    "    print('Converting', var, 'to 1-hot encoding')\n",
    "    \n",
    "    #get 1-hot and replace original column with the >= 2 categories as columns\n",
    "    one_hot_df = pd.get_dummies(X[var])\n",
    "    X = pd.concat([X, one_hot_df], axis=1)\n",
    "    X = X.drop(var, axis=1)\n",
    "    \n",
    "X.head(4)"
   ]
  },
  {
   "cell_type": "markdown",
   "metadata": {},
   "source": [
    "### Remember:\n",
    "* PTGENDER: (Male, Female)\n",
    "* PTETHCAT: (Hisp/Latino, Not Hisp/Latino, Unknown)\n",
    "* PTRACCAT: (White, Black, Asian)\n",
    "* APOE4: (1, 0)\n",
    "* APOE4 Genotype: (22, 23, 24, 33, 34, 44)\n",
    "* imputed_genotype (True, False)"
   ]
  },
  {
   "cell_type": "markdown",
   "metadata": {},
   "source": [
    "### Normalization code if necessary\n",
    "* Could also use from `sklearn.preprocessing` `StandardScaler` or `Normalizer` or `MinMaxScaler`"
   ]
  },
  {
   "cell_type": "code",
   "execution_count": 40,
   "metadata": {},
   "outputs": [],
   "source": [
    "def normalize(X):\n",
    "    \"\"\"\n",
    "    Normalize numerical variables for faster and better convergence\n",
    "    \n",
    "    Args:\n",
    "        X (pd.DataFrame): data\n",
    "        \n",
    "    Returns:\n",
    "        X (numpy array): same data but with normalized numerical features\n",
    "    \"\"\"\n",
    "\n",
    "    #Convert to numpy array\n",
    "    X = np.array(X)\n",
    "    sanity_check = 0\n",
    "\n",
    "    #Normalize numerical variables to speed up convergence\n",
    "    for i in range(3):\n",
    "        mean = np.mean(X[:, i])\n",
    "        sd = np.std(X[:, i])\n",
    "        print('\\nNormalizing', numerical_vars[i], 'with mean=', format(mean, '.2f'), 'and sd=', format(sd, '.2f'))\n",
    "\n",
    "        X[:, i] = (X[:, i] - mean) / sd\n",
    "        sanity_check += np.mean(X[:, i])\n",
    "\n",
    "    print('\\nSanity Check. Sum of all the means should be near 0:', sanity_check)\n",
    "\n",
    "    return X"
   ]
  },
  {
   "cell_type": "markdown",
   "metadata": {},
   "source": [
    "# TODO:\n",
    "* pick up back here\n",
    "* 627 examples enough to do hyperparameter tuning? Probably not\n",
    "* start with random forest to get feature importance"
   ]
  },
  {
   "cell_type": "markdown",
   "metadata": {},
   "source": [
    "## SVM Classifier\n",
    "* See [here](https://scikit-learn.org/stable/modules/generated/sklearn.svm.LinearSVC.html#sklearn.svm.LinearSVC) for more details"
   ]
  },
  {
   "cell_type": "code",
   "execution_count": 9,
   "metadata": {},
   "outputs": [],
   "source": [
    "from sklearn.svm import LinearSVC"
   ]
  },
  {
   "cell_type": "markdown",
   "metadata": {},
   "source": [
    "### SVM Setup\n",
    "* SVM uses Hinge Loss\n",
    "* Hinge Loss: $l_h = max(0, 1 - y * \\mathbf{w^Tx}$)\n",
    "* Regularization: $\\lambda||\\mathbf{w}||_2^2$"
   ]
  },
  {
   "cell_type": "code",
   "execution_count": 10,
   "metadata": {},
   "outputs": [
    {
     "data": {
      "text/plain": [
       "LinearSVC(C=1.0, class_weight=None, dual=True, fit_intercept=True,\n",
       "     intercept_scaling=1, loss='hinge', max_iter=100000, multi_class='ovr',\n",
       "     penalty='l2', random_state=None, tol=0.0001, verbose=0)"
      ]
     },
     "execution_count": 10,
     "metadata": {},
     "output_type": "execute_result"
    }
   ],
   "source": [
    "#Train classifier\n",
    "clf_svm = LinearSVC(penalty='l2', loss='hinge', multi_class='ovr', max_iter = 100000)  #ovr: 'One v. Rest/All'\n",
    "clf_svm.fit(X_train, Y_train)"
   ]
  },
  {
   "cell_type": "code",
   "execution_count": 11,
   "metadata": {},
   "outputs": [],
   "source": [
    "#Make predictions on test data\n",
    "clf_svm_predictions = clf_svm.predict(X_test)\n",
    "svm_accuracy = (clf_svm_predictions == Y_test)"
   ]
  },
  {
   "cell_type": "code",
   "execution_count": 12,
   "metadata": {},
   "outputs": [
    {
     "name": "stdout",
     "output_type": "stream",
     "text": [
      "Test Accuracy:  56.05%\n"
     ]
    }
   ],
   "source": [
    "#Evaluate accuracy\n",
    "print('Test Accuracy: ', format(np.sum(svm_accuracy)/m_test, '.2%'))"
   ]
  },
  {
   "cell_type": "markdown",
   "metadata": {},
   "source": [
    "### Decision Tree"
   ]
  },
  {
   "cell_type": "code",
   "execution_count": 13,
   "metadata": {},
   "outputs": [],
   "source": [
    "from sklearn.tree import DecisionTreeClassifier\n",
    "from sklearn.model_selection import cross_validate, cross_val_score, cross_val_predict"
   ]
  },
  {
   "cell_type": "code",
   "execution_count": 14,
   "metadata": {},
   "outputs": [
    {
     "data": {
      "text/plain": [
       "array([0.62105263, 0.66315789, 0.70526316, 0.53763441, 0.61290323])"
      ]
     },
     "execution_count": 14,
     "metadata": {},
     "output_type": "execute_result"
    }
   ],
   "source": [
    "#Decision Tree with 5-fold CV\n",
    "clf_tree = DecisionTreeClassifier()\n",
    "scores = cross_val_score(clf_tree, X_train, Y_train, cv=5)\n",
    "scores"
   ]
  },
  {
   "cell_type": "code",
   "execution_count": 15,
   "metadata": {},
   "outputs": [
    {
     "name": "stdout",
     "output_type": "stream",
     "text": [
      "95% CI: Mean score 62.80% +/- 11.19%\n"
     ]
    }
   ],
   "source": [
    "print('95% CI: Mean score', format(scores.mean(), '.2%'), '+/-', format(scores.std()*2, '.2%'))"
   ]
  },
  {
   "cell_type": "code",
   "execution_count": 16,
   "metadata": {},
   "outputs": [
    {
     "data": {
      "text/plain": [
       "DecisionTreeClassifier(class_weight=None, criterion='gini', max_depth=None,\n",
       "            max_features=None, max_leaf_nodes=None,\n",
       "            min_impurity_decrease=0.0, min_impurity_split=None,\n",
       "            min_samples_leaf=1, min_samples_split=2,\n",
       "            min_weight_fraction_leaf=0.0, presort=False, random_state=None,\n",
       "            splitter='best')"
      ]
     },
     "execution_count": 16,
     "metadata": {},
     "output_type": "execute_result"
    }
   ],
   "source": [
    "#Expect a result in this interval\n",
    "clf_tree.fit(X_train, Y_train)"
   ]
  },
  {
   "cell_type": "code",
   "execution_count": 17,
   "metadata": {},
   "outputs": [],
   "source": [
    "clf_tree_predictions = clf_tree.predict(X_test)"
   ]
  },
  {
   "cell_type": "code",
   "execution_count": 18,
   "metadata": {},
   "outputs": [
    {
     "name": "stdout",
     "output_type": "stream",
     "text": [
      "Test Accuracy: 61.15%\n"
     ]
    }
   ],
   "source": [
    "tree_accuracy = (clf_tree_predictions == Y_test)\n",
    "#Evaluate accuracy\n",
    "print('Test Accuracy:', format(np.sum(tree_accuracy)/m_test, '.2%'))"
   ]
  },
  {
   "cell_type": "markdown",
   "metadata": {},
   "source": [
    "### Naive Bayes"
   ]
  },
  {
   "cell_type": "code",
   "execution_count": 19,
   "metadata": {},
   "outputs": [],
   "source": [
    "from sklearn.naive_bayes import BernoulliNB"
   ]
  },
  {
   "cell_type": "code",
   "execution_count": 20,
   "metadata": {},
   "outputs": [
    {
     "data": {
      "text/plain": [
       "BernoulliNB(alpha=1.0, binarize=0.0, class_prior=None, fit_prior=True)"
      ]
     },
     "execution_count": 20,
     "metadata": {},
     "output_type": "execute_result"
    }
   ],
   "source": [
    "clf_nb = BernoulliNB()\n",
    "clf_nb.fit(X_train, Y_train)"
   ]
  },
  {
   "cell_type": "code",
   "execution_count": 21,
   "metadata": {},
   "outputs": [
    {
     "name": "stdout",
     "output_type": "stream",
     "text": [
      "Test Accuracy: 55.41%\n"
     ]
    }
   ],
   "source": [
    "clf_nb_predictions = clf_nb.predict(X_test)\n",
    "nb_accuracy = (clf_nb_predictions == Y_test)\n",
    "print('Test Accuracy:', format(np.sum(nb_accuracy)/m_test, '.2%'))"
   ]
  },
  {
   "cell_type": "markdown",
   "metadata": {},
   "source": [
    "### K Nearest Neighbor"
   ]
  },
  {
   "cell_type": "code",
   "execution_count": 22,
   "metadata": {},
   "outputs": [],
   "source": [
    "from sklearn.neighbors import KNeighborsClassifier"
   ]
  },
  {
   "cell_type": "code",
   "execution_count": 23,
   "metadata": {},
   "outputs": [
    {
     "name": "stdout",
     "output_type": "stream",
     "text": [
      "Test Accuracy for k = 1 54.78%\n",
      "Test Accuracy for k = 2 49.68%\n",
      "Test Accuracy for k = 3 59.87%\n",
      "Test Accuracy for k = 4 56.69%\n",
      "Test Accuracy for k = 5 61.78%\n",
      "Test Accuracy for k = 6 63.06%\n",
      "Test Accuracy for k = 7 65.61%\n",
      "Test Accuracy for k = 8 63.69%\n",
      "Test Accuracy for k = 9 65.61%\n",
      "Test Accuracy for k = 10 67.52%\n",
      "Test Accuracy for k = 11 63.69%\n",
      "Test Accuracy for k = 12 63.06%\n",
      "Test Accuracy for k = 13 65.61%\n",
      "Test Accuracy for k = 14 66.88%\n",
      "Test Accuracy for k = 15 64.97%\n",
      "Test Accuracy for k = 16 64.97%\n",
      "Test Accuracy for k = 17 63.06%\n",
      "Test Accuracy for k = 18 63.69%\n",
      "Test Accuracy for k = 19 63.69%\n"
     ]
    }
   ],
   "source": [
    "#Try multiple k values for knn\n",
    "for k in range(1, 20):\n",
    "    \n",
    "    clf_knn = KNeighborsClassifier(n_neighbors=k)\n",
    "    clf_knn.fit(X_train, Y_train)\n",
    "    \n",
    "    clf_knn_predictions = clf_knn.predict(X_test)\n",
    "    \n",
    "    knn_accuracy = (clf_knn_predictions == Y_test)\n",
    "    \n",
    "    print('Test Accuracy for k =', k, format(np.sum(knn_accuracy)/m_test, '.2%'))"
   ]
  },
  {
   "cell_type": "code",
   "execution_count": 24,
   "metadata": {},
   "outputs": [],
   "source": [
    "#K = 10 seems optimal giving an accuracy of 67.52%"
   ]
  },
  {
   "cell_type": "markdown",
   "metadata": {},
   "source": [
    "### Random Forest"
   ]
  },
  {
   "cell_type": "code",
   "execution_count": 25,
   "metadata": {},
   "outputs": [],
   "source": [
    "from sklearn.ensemble import RandomForestClassifier"
   ]
  },
  {
   "cell_type": "code",
   "execution_count": 26,
   "metadata": {},
   "outputs": [
    {
     "name": "stdout",
     "output_type": "stream",
     "text": [
      "Test Accuracy for # estimators = 10 68.15%\n",
      "Test Accuracy for # estimators = 20 68.79%\n",
      "Test Accuracy for # estimators = 30 67.52%\n",
      "Test Accuracy for # estimators = 40 70.70%\n",
      "Test Accuracy for # estimators = 50 70.06%\n",
      "Test Accuracy for # estimators = 60 67.52%\n",
      "Test Accuracy for # estimators = 70 67.52%\n",
      "Test Accuracy for # estimators = 80 69.43%\n",
      "Test Accuracy for # estimators = 90 68.79%\n",
      "Test Accuracy for # estimators = 100 71.34%\n",
      "Test Accuracy for # estimators = 110 69.43%\n",
      "Test Accuracy for # estimators = 120 70.70%\n",
      "Test Accuracy for # estimators = 130 70.06%\n",
      "Test Accuracy for # estimators = 140 68.15%\n",
      "Test Accuracy for # estimators = 150 69.43%\n",
      "Test Accuracy for # estimators = 160 70.06%\n",
      "Test Accuracy for # estimators = 170 71.97%\n",
      "Test Accuracy for # estimators = 180 70.70%\n",
      "Test Accuracy for # estimators = 190 69.43%\n",
      "Test Accuracy for # estimators = 200 71.97%\n",
      "Test Accuracy for # estimators = 210 67.52%\n",
      "Test Accuracy for # estimators = 220 68.15%\n",
      "Test Accuracy for # estimators = 230 68.79%\n",
      "Test Accuracy for # estimators = 240 70.70%\n",
      "Test Accuracy for # estimators = 250 70.06%\n",
      "Test Accuracy for # estimators = 260 71.97%\n",
      "Test Accuracy for # estimators = 270 70.06%\n",
      "Test Accuracy for # estimators = 280 68.79%\n",
      "Test Accuracy for # estimators = 290 70.06%\n",
      "Test Accuracy for # estimators = 300 71.34%\n"
     ]
    }
   ],
   "source": [
    "#Vary number of estimators [10, 20, 30, ..., 180, 190, 200]\n",
    "for i in range(10, 301, 10):\n",
    "    clf_forest = RandomForestClassifier(n_estimators=i)\n",
    "    \n",
    "    clf_forest.fit(X_train, Y_train)\n",
    "    \n",
    "    clf_forest_predictions = clf_forest.predict(X_test)\n",
    "    \n",
    "    forest_accuracy = (clf_forest_predictions == Y_test)\n",
    "    \n",
    "    print('Test Accuracy for # estimators =', i, format(np.sum(forest_accuracy)/m_test, '.2%'))"
   ]
  },
  {
   "cell_type": "code",
   "execution_count": 27,
   "metadata": {},
   "outputs": [],
   "source": [
    "#With n_estimators > 200, test accuracy seems to sit around 69-70%"
   ]
  },
  {
   "cell_type": "markdown",
   "metadata": {},
   "source": [
    "### Multi-layer Perceptron"
   ]
  },
  {
   "cell_type": "code",
   "execution_count": 28,
   "metadata": {},
   "outputs": [],
   "source": [
    "from sklearn.neural_network import MLPClassifier"
   ]
  },
  {
   "cell_type": "code",
   "execution_count": 29,
   "metadata": {},
   "outputs": [
    {
     "name": "stdout",
     "output_type": "stream",
     "text": [
      "Test Accuracy for # units in layer 1: 25 and alpha = 0.01 --- 66.88%\n",
      "Test Accuracy for # units in layer 1: 25 and alpha = 0.1 --- 68.15%\n",
      "Test Accuracy for # units in layer 1: 25 and alpha = 1 --- 71.97%\n",
      "Test Accuracy for # units in layer 1: 25 and alpha = 3 --- 69.43%\n",
      "Test Accuracy for # units in layer 1: 25 and alpha = 9 --- 71.34%\n",
      "Test Accuracy for # units in layer 1: 25 and alpha = 27 --- 71.97%\n",
      "Test Accuracy for # units in layer 1: 50 and alpha = 0.01 --- 59.87%\n",
      "Test Accuracy for # units in layer 1: 50 and alpha = 0.1 --- 60.51%\n",
      "Test Accuracy for # units in layer 1: 50 and alpha = 1 --- 73.25%\n",
      "Test Accuracy for # units in layer 1: 50 and alpha = 3 --- 71.97%\n",
      "Test Accuracy for # units in layer 1: 50 and alpha = 9 --- 71.34%\n",
      "Test Accuracy for # units in layer 1: 50 and alpha = 27 --- 71.97%\n",
      "Test Accuracy for # units in layer 1: 75 and alpha = 0.01 --- 59.24%\n",
      "Test Accuracy for # units in layer 1: 75 and alpha = 0.1 --- 66.88%\n",
      "Test Accuracy for # units in layer 1: 75 and alpha = 1 --- 70.70%\n",
      "Test Accuracy for # units in layer 1: 75 and alpha = 3 --- 71.34%\n",
      "Test Accuracy for # units in layer 1: 75 and alpha = 9 --- 71.34%\n",
      "Test Accuracy for # units in layer 1: 75 and alpha = 27 --- 71.97%\n",
      "Test Accuracy for # units in layer 1: 100 and alpha = 0.01 --- 60.51%\n",
      "Test Accuracy for # units in layer 1: 100 and alpha = 0.1 --- 63.69%\n",
      "Test Accuracy for # units in layer 1: 100 and alpha = 1 --- 71.97%\n",
      "Test Accuracy for # units in layer 1: 100 and alpha = 3 --- 70.70%\n",
      "Test Accuracy for # units in layer 1: 100 and alpha = 9 --- 71.34%\n",
      "Test Accuracy for # units in layer 1: 100 and alpha = 27 --- 71.97%\n",
      "Test Accuracy for # units in layer 1: 125 and alpha = 0.01 --- 61.78%\n",
      "Test Accuracy for # units in layer 1: 125 and alpha = 0.1 --- 63.06%\n",
      "Test Accuracy for # units in layer 1: 125 and alpha = 1 --- 69.43%\n",
      "Test Accuracy for # units in layer 1: 125 and alpha = 3 --- 69.43%\n",
      "Test Accuracy for # units in layer 1: 125 and alpha = 9 --- 71.34%\n",
      "Test Accuracy for # units in layer 1: 125 and alpha = 27 --- 71.97%\n",
      "Test Accuracy for # units in layer 1: 150 and alpha = 0.01 --- 57.96%\n",
      "Test Accuracy for # units in layer 1: 150 and alpha = 0.1 --- 62.42%\n",
      "Test Accuracy for # units in layer 1: 150 and alpha = 1 --- 70.70%\n",
      "Test Accuracy for # units in layer 1: 150 and alpha = 3 --- 70.70%\n",
      "Test Accuracy for # units in layer 1: 150 and alpha = 9 --- 71.34%\n",
      "Test Accuracy for # units in layer 1: 150 and alpha = 27 --- 71.97%\n"
     ]
    }
   ],
   "source": [
    "#hyperparamers: # of hidden layer units, alpha (learning rate), activation function, optimizer\n",
    "\n",
    "#scikit-learn documentation suggests adam for large data sets (>1000) and lbfgs for smaller sets\n",
    "optimizer = 'lbfgs'\n",
    "\n",
    "#activation default is relu\n",
    "\n",
    "#max_iter default is 200\n",
    "\n",
    "#learning rate is constant\n",
    "\n",
    "#default is .0001, smaller alphas performed poorly\n",
    "alphas = [ .01, .1, 1, 3, 9, 27]\n",
    "\n",
    "accuracies = {}\n",
    "\n",
    "#number of hidden layer units [25, 50, ..., 125, 150]\n",
    "for units1 in range(25, 151, 25):\n",
    "    for alpha in alphas:\n",
    "        clf_network = MLPClassifier(hidden_layer_sizes=(units1, ), solver=optimizer, alpha=alpha)\n",
    "\n",
    "        clf_network.fit(X_train, Y_train)\n",
    "\n",
    "        clf_network_predictions = clf_network.predict(X_test)\n",
    "\n",
    "        network_accuracy = (clf_network_predictions == Y_test)\n",
    "            \n",
    "        acc_percent = np.sum(network_accuracy)/m_test\n",
    "\n",
    "        print('Test Accuracy for # units in layer 1:', units1, 'and alpha =', alpha, '---', \n",
    "                format(acc_percent, '.2%'))\n",
    "            \n",
    "        accuracies[(units1, alpha)] = acc_percent\n"
   ]
  },
  {
   "cell_type": "code",
   "execution_count": 30,
   "metadata": {},
   "outputs": [
    {
     "name": "stdout",
     "output_type": "stream",
     "text": [
      "Printing top 5 models: \n",
      "\n",
      "Number of hidden units = 50 , alpha= 1 and test accuracy = 73.25%\n",
      "Number of hidden units = 25 , alpha= 1 and test accuracy = 71.97%\n",
      "Number of hidden units = 25 , alpha= 27 and test accuracy = 71.97%\n",
      "Number of hidden units = 50 , alpha= 3 and test accuracy = 71.97%\n",
      "Number of hidden units = 50 , alpha= 27 and test accuracy = 71.97%\n"
     ]
    }
   ],
   "source": [
    "#Get and print the top 5 models\n",
    "max(accuracies, key=accuracies.get)\n",
    "\n",
    "best_5 = {}\n",
    "\n",
    "#get top 5\n",
    "for i in range(0, 5):\n",
    "    best = max(accuracies, key=accuracies.get)\n",
    "    \n",
    "    best_5[best] = accuracies[best]\n",
    "    \n",
    "    del accuracies[best]\n",
    "    \n",
    "#print top 5\n",
    "print('Printing top 5 models: \\n')\n",
    "for k,v in best_5.items():\n",
    "    print('Number of hidden units =', k[0], ', alpha=', k[1], 'and test accuracy =', format(v, '.2%'))\n"
   ]
  },
  {
   "cell_type": "code",
   "execution_count": null,
   "metadata": {},
   "outputs": [],
   "source": []
  }
 ],
 "metadata": {
  "kernelspec": {
   "display_name": "Python 3",
   "language": "python",
   "name": "python3"
  },
  "language_info": {
   "codemirror_mode": {
    "name": "ipython",
    "version": 3
   },
   "file_extension": ".py",
   "mimetype": "text/x-python",
   "name": "python",
   "nbconvert_exporter": "python",
   "pygments_lexer": "ipython3",
   "version": "3.6.8"
  }
 },
 "nbformat": 4,
 "nbformat_minor": 2
}
